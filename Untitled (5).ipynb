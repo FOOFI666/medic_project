Untitled (5).ipynb
